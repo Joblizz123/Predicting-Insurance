{
 "cells": [
  {
   "cell_type": "code",
   "execution_count": 3,
   "id": "ccd4f107",
   "metadata": {},
   "outputs": [],
   "source": [
    "import numpy as np\n",
    "import pandas as pd\n",
    "import matplotlib.pyplot as plt\n",
    "import seaborn as sns"
   ]
  },
  {
   "cell_type": "code",
   "execution_count": 4,
   "id": "4e1b10d7",
   "metadata": {},
   "outputs": [
    {
     "data": {
      "text/html": [
       "<div>\n",
       "<style scoped>\n",
       "    .dataframe tbody tr th:only-of-type {\n",
       "        vertical-align: middle;\n",
       "    }\n",
       "\n",
       "    .dataframe tbody tr th {\n",
       "        vertical-align: top;\n",
       "    }\n",
       "\n",
       "    .dataframe thead th {\n",
       "        text-align: right;\n",
       "    }\n",
       "</style>\n",
       "<table border=\"1\" class=\"dataframe\">\n",
       "  <thead>\n",
       "    <tr style=\"text-align: right;\">\n",
       "      <th></th>\n",
       "      <th>age</th>\n",
       "      <th>sex</th>\n",
       "      <th>bmi</th>\n",
       "      <th>children</th>\n",
       "      <th>smoker</th>\n",
       "      <th>region</th>\n",
       "      <th>charges</th>\n",
       "    </tr>\n",
       "  </thead>\n",
       "  <tbody>\n",
       "    <tr>\n",
       "      <th>0</th>\n",
       "      <td>19</td>\n",
       "      <td>female</td>\n",
       "      <td>27.900</td>\n",
       "      <td>0</td>\n",
       "      <td>yes</td>\n",
       "      <td>southwest</td>\n",
       "      <td>16884.92400</td>\n",
       "    </tr>\n",
       "    <tr>\n",
       "      <th>1</th>\n",
       "      <td>18</td>\n",
       "      <td>male</td>\n",
       "      <td>33.770</td>\n",
       "      <td>1</td>\n",
       "      <td>no</td>\n",
       "      <td>southeast</td>\n",
       "      <td>1725.55230</td>\n",
       "    </tr>\n",
       "    <tr>\n",
       "      <th>2</th>\n",
       "      <td>28</td>\n",
       "      <td>male</td>\n",
       "      <td>33.000</td>\n",
       "      <td>3</td>\n",
       "      <td>no</td>\n",
       "      <td>southeast</td>\n",
       "      <td>4449.46200</td>\n",
       "    </tr>\n",
       "    <tr>\n",
       "      <th>3</th>\n",
       "      <td>33</td>\n",
       "      <td>male</td>\n",
       "      <td>22.705</td>\n",
       "      <td>0</td>\n",
       "      <td>no</td>\n",
       "      <td>northwest</td>\n",
       "      <td>21984.47061</td>\n",
       "    </tr>\n",
       "    <tr>\n",
       "      <th>4</th>\n",
       "      <td>32</td>\n",
       "      <td>male</td>\n",
       "      <td>28.880</td>\n",
       "      <td>0</td>\n",
       "      <td>no</td>\n",
       "      <td>northwest</td>\n",
       "      <td>3866.85520</td>\n",
       "    </tr>\n",
       "  </tbody>\n",
       "</table>\n",
       "</div>"
      ],
      "text/plain": [
       "   age     sex     bmi  children smoker     region      charges\n",
       "0   19  female  27.900         0    yes  southwest  16884.92400\n",
       "1   18    male  33.770         1     no  southeast   1725.55230\n",
       "2   28    male  33.000         3     no  southeast   4449.46200\n",
       "3   33    male  22.705         0     no  northwest  21984.47061\n",
       "4   32    male  28.880         0     no  northwest   3866.85520"
      ]
     },
     "execution_count": 4,
     "metadata": {},
     "output_type": "execute_result"
    }
   ],
   "source": [
    "df = pd.read_csv('Dataset/insurance.csv')\n",
    "df.head()"
   ]
  },
  {
   "cell_type": "code",
   "execution_count": 5,
   "id": "a432f2f4",
   "metadata": {},
   "outputs": [
    {
     "name": "stdout",
     "output_type": "stream",
     "text": [
      "      age   sex     bmi  children smoker     region      charges\n",
      "1      18  male  33.770         1     no  southeast   1725.55230\n",
      "2      28  male  33.000         3     no  southeast   4449.46200\n",
      "3      33  male  22.705         0     no  northwest  21984.47061\n",
      "4      32  male  28.880         0     no  northwest   3866.85520\n",
      "8      37  male  29.830         2     no  northeast   6406.41070\n",
      "...   ...   ...     ...       ...    ...        ...          ...\n",
      "1324   31  male  25.935         1     no  northwest   4239.89265\n",
      "1325   61  male  33.535         0     no  northeast  13143.33665\n",
      "1327   51  male  30.030         1     no  southeast   9377.90470\n",
      "1329   52  male  38.600         2     no  southwest  10325.20600\n",
      "1333   50  male  30.970         3     no  northwest  10600.54830\n",
      "\n",
      "[676 rows x 7 columns]\n"
     ]
    }
   ],
   "source": [
    "male = df[df['sex']=='male']\n",
    "female = df[df['sex']=='female']\n",
    "print(male)"
   ]
  },
  {
   "cell_type": "code",
   "execution_count": null,
   "id": "dafd000f",
   "metadata": {},
   "outputs": [],
   "source": []
  },
  {
   "cell_type": "code",
   "execution_count": 7,
   "id": "06cc6dba",
   "metadata": {},
   "outputs": [
    {
     "data": {
      "image/png": "[encoded data removed]",
      "text/plain": [
       "<Figure size 432x288 with 1 Axes>"
      ]
     },
     "metadata": {
      "needs_background": "light"
     },
     "output_type": "display_data"
    }
   ],
   "source": [
    "plt.figure()\n",
    "plt.bar(df.smoker, df.charges)\n",
    "plt.show()"
   ]
  },
  {
   "cell_type": "code",
   "execution_count": 8,
   "id": "85c93ef0",
   "metadata": {},
   "outputs": [
    {
     "data": {
      "text/plain": [
       "mean         30.663397\n",
       "median       30.400000\n",
       "min          15.960000\n",
       "max          53.130000\n",
       "sum       41027.625000\n",
       "Name: bmi, dtype: float64"
      ]
     },
     "execution_count": 8,
     "metadata": {},
     "output_type": "execute_result"
    }
   ],
   "source": [
    "#Distribution of BMI\n",
    "bmi_agg = df.bmi.aggregate(['mean', 'median', 'min', 'max', 'sum'])\n",
    "bmi_agg"
   ]
  },
  {
   "cell_type": "code",
   "execution_count": 9,
   "id": "b58f5843",
   "metadata": {},
   "outputs": [],
   "source": [
    "# Changing columns sex and smoker to numrical variables\n",
    "#sex_dict = {'male': 1, 'female': 0}\n",
    "#smoker_dict = {'yes': 1, 'no': 0}\n",
    "\n",
    "#df['sex'] = df['sex'].map(sex_dict)\n",
    "#df['smoker'] = df['smoker'].map(smoker_dict)"
   ]
  },
  {
   "cell_type": "code",
   "execution_count": 10,
   "id": "f4e3b372",
   "metadata": {},
   "outputs": [],
   "source": [
    "#df.head()"
   ]
  },
  {
   "cell_type": "code",
   "execution_count": 11,
   "id": "88da6d19",
   "metadata": {},
   "outputs": [],
   "source": [
    "#rom sklearn.preprocessing import LabelEncoder\n",
    "#ncoder = LabelEncoder()\n",
    "#ncoder.fit_"
   ]
  },
  {
   "cell_type": "code",
   "execution_count": 12,
   "id": "5c314c73",
   "metadata": {
    "scrolled": true
   },
   "outputs": [
    {
     "name": "stdout",
     "output_type": "stream",
     "text": [
      "32.300    13\n",
      "28.310     9\n",
      "30.495     8\n",
      "30.875     8\n",
      "31.350     8\n",
      "          ..\n",
      "46.200     1\n",
      "23.800     1\n",
      "44.770     1\n",
      "32.120     1\n",
      "30.970     1\n",
      "Name: bmi, Length: 548, dtype: int64\n"
     ]
    }
   ],
   "source": [
    "#Examining the distribution of BMI\n",
    "bmi = df['bmi'].value_counts()\n",
    "print(bmi)\n",
    "\n",
    "bmi_count = df.groupby('sex')['bmi'].value_counts()\n"
   ]
  },
  {
   "cell_type": "code",
   "execution_count": 13,
   "id": "636331a8",
   "metadata": {},
   "outputs": [
    {
     "data": {
      "image/png": "[encoded data removed]",
      "text/plain": [
       "<Figure size 432x288 with 1 Axes>"
      ]
     },
     "metadata": {
      "needs_background": "light"
     },
     "output_type": "display_data"
    }
   ],
   "source": [
    "plt.figure()\n",
    "bmi_count.hist()\n",
    "plt.show()"
   ]
  },
  {
   "cell_type": "code",
   "execution_count": 14,
   "id": "97697484",
   "metadata": {},
   "outputs": [
    {
     "name": "stdout",
     "output_type": "stream",
     "text": [
      "The proportion of smokers in the different region is:\n",
      " southeast    0.332117\n",
      "northeast    0.244526\n",
      "southwest    0.211679\n",
      "northwest    0.211679\n",
      "Name: region, dtype: float64\n",
      "The proportion of non smokers in the different region is:\n",
      " southeast    0.256579\n",
      "northwest    0.250940\n",
      "southwest    0.250940\n",
      "northeast    0.241541\n",
      "Name: region, dtype: float64\n"
     ]
    }
   ],
   "source": [
    "# Relationship between smoker and region\n",
    "#smoke_reg = df.groupby('smoker').region.value_counts().sort_values()\n",
    "#smoke_reg\n",
    "\n",
    "smoker = df[df['smoker'] == 'yes']\n",
    "smoker_reg = smoker['region'].value_counts(normalize=True)\n",
    "\n",
    "#dataframe where df['smoker'] == no\n",
    "non_smoker = df[df['smoker'] =='no']\n",
    "non_smoker_reg = non_smoker['region'].value_counts(normalize=True)\n",
    "print('The proportion of smokers in the different region is:\\n', smoker_reg)\n",
    "print('The proportion of non smokers in the different region is:\\n', non_smoker_reg)"
   ]
  },
  {
   "cell_type": "code",
   "execution_count": 15,
   "id": "909b9323",
   "metadata": {},
   "outputs": [
    {
     "data": {
      "image/png": "[encoded data removed]",
      "text/plain": [
       "<Figure size 432x288 with 1 Axes>"
      ]
     },
     "metadata": {
      "needs_background": "light"
     },
     "output_type": "display_data"
    }
   ],
   "source": [
    "plt.figure()\n",
    "plt.bar(smoker['region'].unique(), smoker_reg, label='Yes')\n",
    "plt.bar(non_smoker['region'].unique(), non_smoker_reg, bottom=smoker_reg, label='No')\n",
    "plt.xlabel('Regions')\n",
    "plt.ylabel('Proportions')\n",
    "plt.title('Relationship between Region and smoker')\n",
    "plt.legend()\n",
    "plt.show()"
   ]
  },
  {
   "cell_type": "code",
   "execution_count": 16,
   "id": "a54df8e7",
   "metadata": {},
   "outputs": [
    {
     "data": {
      "text/plain": [
       "32.300    8\n",
       "30.875    7\n",
       "25.460    6\n",
       "34.100    6\n",
       "28.310    5\n",
       "         ..\n",
       "42.655    1\n",
       "41.800    1\n",
       "26.180    1\n",
       "21.500    1\n",
       "30.970    1\n",
       "Name: bmi, Length: 391, dtype: int64"
      ]
     },
     "execution_count": 16,
     "metadata": {},
     "output_type": "execute_result"
    }
   ],
   "source": [
    "#Relationship between BMI and sex\n",
    "df.groupby('sex')['bmi'].agg(['mean', 'median', 'sum', 'max', 'min'])\n",
    "\n",
    "male = df[df['sex'] == 'male']\n",
    "male\n",
    "male['bmi'].value_counts().sort_values(ascending=False)\n",
    "\n"
   ]
  },
  {
   "cell_type": "code",
   "execution_count": 17,
   "id": "81bf0040",
   "metadata": {},
   "outputs": [
    {
     "name": "stdout",
     "output_type": "stream",
     "text": [
      "smoker\n",
      "no     36910.60803\n",
      "yes    63770.42801\n",
      "Name: charges, dtype: float64\n"
     ]
    }
   ],
   "source": [
    "#Examining the relationship between smokers and charges\n",
    "charges = df.groupby('smoker')['charges'].max()\n",
    "print(charges)"
   ]
  },
  {
   "cell_type": "code",
   "execution_count": 18,
   "id": "f6bcefc1",
   "metadata": {},
   "outputs": [
    {
     "data": {
      "image/png": "[encoded data removed]",
      "text/plain": [
       "<Figure size 432x288 with 1 Axes>"
      ]
     },
     "metadata": {
      "needs_background": "light"
     },
     "output_type": "display_data"
    }
   ],
   "source": [
    "#Relationship between age and bmi\n",
    "plt.figure()\n",
    "plt.scatter(df['age'], df['bmi'])\n",
    "plt.xlabel('Age (Years)')\n",
    "plt.ylabel('BMI')\n",
    "plt.title('Relationship between age and bmi')\n",
    "plt.yscale('log')\n",
    "plt.show()"
   ]
  },
  {
   "cell_type": "code",
   "execution_count": 19,
   "id": "80278d62",
   "metadata": {},
   "outputs": [
    {
     "name": "stdout",
     "output_type": "stream",
     "text": [
      "[19 18 28 33 32 31 46 37 60 25 62 23 56 27 52 30 34 59 63 55 22 26 35 24\n",
      " 41 38 36 21 48 40 58 53 43 64 20 61 44 57 29 45 54 49 47 51 42 50 39]\n"
     ]
    }
   ],
   "source": [
    "print(df['age'].unique())"
   ]
  },
  {
   "cell_type": "code",
   "execution_count": 20,
   "id": "440d9518",
   "metadata": {},
   "outputs": [
    {
     "data": {
      "text/plain": [
       "age\n",
       "18    31.326159\n",
       "19    28.596912\n",
       "20    30.632759\n",
       "21    28.185714\n",
       "22    31.087679\n",
       "23    31.454464\n",
       "24    29.142679\n",
       "25    29.693929\n",
       "26    29.428929\n",
       "27    29.333571\n",
       "28    29.482143\n",
       "29    29.383148\n",
       "30    30.557593\n",
       "31    29.918333\n",
       "32    31.597692\n",
       "33    31.163077\n",
       "34    30.274038\n",
       "35    31.394800\n",
       "36    29.374200\n",
       "37    31.216600\n",
       "38    28.996600\n",
       "39    29.910200\n",
       "40    30.139074\n",
       "41    31.506852\n",
       "42    30.328148\n",
       "43    30.204444\n",
       "44    30.844259\n",
       "45    29.778966\n",
       "46    31.340862\n",
       "47    30.664310\n",
       "48    31.925690\n",
       "49    30.313929\n",
       "50    31.132241\n",
       "51    31.727069\n",
       "52    32.936034\n",
       "53    30.360893\n",
       "54    31.234286\n",
       "55    31.950000\n",
       "56    31.600962\n",
       "57    30.844423\n",
       "58    32.718200\n",
       "59    30.572000\n",
       "60    30.332826\n",
       "61    32.548261\n",
       "62    32.342609\n",
       "63    31.923478\n",
       "64    32.976136\n",
       "Name: bmi, dtype: float64"
      ]
     },
     "execution_count": 20,
     "metadata": {},
     "output_type": "execute_result"
    }
   ],
   "source": [
    "mean_bmi = df.groupby('age')['bmi'].mean()\n",
    "mean_bmi"
   ]
  },
  {
   "cell_type": "code",
   "execution_count": 21,
   "id": "929e6ce4",
   "metadata": {},
   "outputs": [
    {
     "data": {
      "image/png": "[encoded data removed]",
      "text/plain": [
       "<Figure size 432x288 with 1 Axes>"
      ]
     },
     "metadata": {
      "needs_background": "light"
     },
     "output_type": "display_data"
    }
   ],
   "source": [
    "plt.figure()\n",
    "plt.bar(df['age'].unique(), mean_bmi)\n",
    "plt.xlabel('Age (years)')\n",
    "plt.ylabel('Mean BMI')\n",
    "plt.title('Bar chart for BMI against Age')\n",
    "plt.show()"
   ]
  },
  {
   "cell_type": "code",
   "execution_count": 22,
   "id": "57ac5ffa",
   "metadata": {},
   "outputs": [
    {
     "data": {
      "text/html": [
       "<div>\n",
       "<style scoped>\n",
       "    .dataframe tbody tr th:only-of-type {\n",
       "        vertical-align: middle;\n",
       "    }\n",
       "\n",
       "    .dataframe tbody tr th {\n",
       "        vertical-align: top;\n",
       "    }\n",
       "\n",
       "    .dataframe thead th {\n",
       "        text-align: right;\n",
       "    }\n",
       "</style>\n",
       "<table border=\"1\" class=\"dataframe\">\n",
       "  <thead>\n",
       "    <tr style=\"text-align: right;\">\n",
       "      <th></th>\n",
       "      <th>age</th>\n",
       "      <th>sex</th>\n",
       "      <th>bmi</th>\n",
       "      <th>children</th>\n",
       "      <th>smoker</th>\n",
       "      <th>region</th>\n",
       "      <th>charges</th>\n",
       "    </tr>\n",
       "  </thead>\n",
       "  <tbody>\n",
       "    <tr>\n",
       "      <th>0</th>\n",
       "      <td>19</td>\n",
       "      <td>female</td>\n",
       "      <td>27.900</td>\n",
       "      <td>0</td>\n",
       "      <td>yes</td>\n",
       "      <td>southwest</td>\n",
       "      <td>16884.92400</td>\n",
       "    </tr>\n",
       "    <tr>\n",
       "      <th>1</th>\n",
       "      <td>18</td>\n",
       "      <td>male</td>\n",
       "      <td>33.770</td>\n",
       "      <td>1</td>\n",
       "      <td>no</td>\n",
       "      <td>southeast</td>\n",
       "      <td>1725.55230</td>\n",
       "    </tr>\n",
       "    <tr>\n",
       "      <th>2</th>\n",
       "      <td>28</td>\n",
       "      <td>male</td>\n",
       "      <td>33.000</td>\n",
       "      <td>3</td>\n",
       "      <td>no</td>\n",
       "      <td>southeast</td>\n",
       "      <td>4449.46200</td>\n",
       "    </tr>\n",
       "    <tr>\n",
       "      <th>3</th>\n",
       "      <td>33</td>\n",
       "      <td>male</td>\n",
       "      <td>22.705</td>\n",
       "      <td>0</td>\n",
       "      <td>no</td>\n",
       "      <td>northwest</td>\n",
       "      <td>21984.47061</td>\n",
       "    </tr>\n",
       "    <tr>\n",
       "      <th>4</th>\n",
       "      <td>32</td>\n",
       "      <td>male</td>\n",
       "      <td>28.880</td>\n",
       "      <td>0</td>\n",
       "      <td>no</td>\n",
       "      <td>northwest</td>\n",
       "      <td>3866.85520</td>\n",
       "    </tr>\n",
       "    <tr>\n",
       "      <th>...</th>\n",
       "      <td>...</td>\n",
       "      <td>...</td>\n",
       "      <td>...</td>\n",
       "      <td>...</td>\n",
       "      <td>...</td>\n",
       "      <td>...</td>\n",
       "      <td>...</td>\n",
       "    </tr>\n",
       "    <tr>\n",
       "      <th>1331</th>\n",
       "      <td>23</td>\n",
       "      <td>female</td>\n",
       "      <td>33.400</td>\n",
       "      <td>0</td>\n",
       "      <td>no</td>\n",
       "      <td>southwest</td>\n",
       "      <td>10795.93733</td>\n",
       "    </tr>\n",
       "    <tr>\n",
       "      <th>1333</th>\n",
       "      <td>50</td>\n",
       "      <td>male</td>\n",
       "      <td>30.970</td>\n",
       "      <td>3</td>\n",
       "      <td>no</td>\n",
       "      <td>northwest</td>\n",
       "      <td>10600.54830</td>\n",
       "    </tr>\n",
       "    <tr>\n",
       "      <th>1334</th>\n",
       "      <td>18</td>\n",
       "      <td>female</td>\n",
       "      <td>31.920</td>\n",
       "      <td>0</td>\n",
       "      <td>no</td>\n",
       "      <td>northeast</td>\n",
       "      <td>2205.98080</td>\n",
       "    </tr>\n",
       "    <tr>\n",
       "      <th>1335</th>\n",
       "      <td>18</td>\n",
       "      <td>female</td>\n",
       "      <td>36.850</td>\n",
       "      <td>0</td>\n",
       "      <td>no</td>\n",
       "      <td>southeast</td>\n",
       "      <td>1629.83350</td>\n",
       "    </tr>\n",
       "    <tr>\n",
       "      <th>1336</th>\n",
       "      <td>21</td>\n",
       "      <td>female</td>\n",
       "      <td>25.800</td>\n",
       "      <td>0</td>\n",
       "      <td>no</td>\n",
       "      <td>southwest</td>\n",
       "      <td>2007.94500</td>\n",
       "    </tr>\n",
       "  </tbody>\n",
       "</table>\n",
       "<p>982 rows × 7 columns</p>\n",
       "</div>"
      ],
      "text/plain": [
       "      age     sex     bmi  children smoker     region      charges\n",
       "0      19  female  27.900         0    yes  southwest  16884.92400\n",
       "1      18    male  33.770         1     no  southeast   1725.55230\n",
       "2      28    male  33.000         3     no  southeast   4449.46200\n",
       "3      33    male  22.705         0     no  northwest  21984.47061\n",
       "4      32    male  28.880         0     no  northwest   3866.85520\n",
       "...   ...     ...     ...       ...    ...        ...          ...\n",
       "1331   23  female  33.400         0     no  southwest  10795.93733\n",
       "1333   50    male  30.970         3     no  northwest  10600.54830\n",
       "1334   18  female  31.920         0     no  northeast   2205.98080\n",
       "1335   18  female  36.850         0     no  southeast   1629.83350\n",
       "1336   21  female  25.800         0     no  southwest   2007.94500\n",
       "\n",
       "[982 rows x 7 columns]"
      ]
     },
     "execution_count": 22,
     "metadata": {},
     "output_type": "execute_result"
    }
   ],
   "source": [
    "# Considering the BMI for the younger people\n",
    "young_age = df[df['age'] <= 50]\n",
    "young_age"
   ]
  },
  {
   "cell_type": "code",
   "execution_count": 23,
   "id": "4c67e7f0",
   "metadata": {},
   "outputs": [],
   "source": [
    "#young_age.groupby('age')['bmi'].count().plot.bar()"
   ]
  },
  {
   "cell_type": "code",
   "execution_count": 24,
   "id": "98d13f25",
   "metadata": {},
   "outputs": [
    {
     "data": {
      "text/html": [
       "<div>\n",
       "<style scoped>\n",
       "    .dataframe tbody tr th:only-of-type {\n",
       "        vertical-align: middle;\n",
       "    }\n",
       "\n",
       "    .dataframe tbody tr th {\n",
       "        vertical-align: top;\n",
       "    }\n",
       "\n",
       "    .dataframe thead th {\n",
       "        text-align: right;\n",
       "    }\n",
       "</style>\n",
       "<table border=\"1\" class=\"dataframe\">\n",
       "  <thead>\n",
       "    <tr style=\"text-align: right;\">\n",
       "      <th></th>\n",
       "      <th>age</th>\n",
       "      <th>sex</th>\n",
       "      <th>bmi</th>\n",
       "      <th>children</th>\n",
       "      <th>smoker</th>\n",
       "      <th>region</th>\n",
       "      <th>charges</th>\n",
       "    </tr>\n",
       "  </thead>\n",
       "  <tbody>\n",
       "    <tr>\n",
       "      <th>9</th>\n",
       "      <td>60</td>\n",
       "      <td>female</td>\n",
       "      <td>25.84</td>\n",
       "      <td>0</td>\n",
       "      <td>no</td>\n",
       "      <td>northwest</td>\n",
       "      <td>28923.13692</td>\n",
       "    </tr>\n",
       "    <tr>\n",
       "      <th>11</th>\n",
       "      <td>62</td>\n",
       "      <td>female</td>\n",
       "      <td>26.29</td>\n",
       "      <td>0</td>\n",
       "      <td>yes</td>\n",
       "      <td>southeast</td>\n",
       "      <td>27808.72510</td>\n",
       "    </tr>\n",
       "    <tr>\n",
       "      <th>13</th>\n",
       "      <td>56</td>\n",
       "      <td>female</td>\n",
       "      <td>39.82</td>\n",
       "      <td>0</td>\n",
       "      <td>no</td>\n",
       "      <td>southeast</td>\n",
       "      <td>11090.71780</td>\n",
       "    </tr>\n",
       "    <tr>\n",
       "      <th>16</th>\n",
       "      <td>52</td>\n",
       "      <td>female</td>\n",
       "      <td>30.78</td>\n",
       "      <td>1</td>\n",
       "      <td>no</td>\n",
       "      <td>northeast</td>\n",
       "      <td>10797.33620</td>\n",
       "    </tr>\n",
       "    <tr>\n",
       "      <th>18</th>\n",
       "      <td>56</td>\n",
       "      <td>male</td>\n",
       "      <td>40.30</td>\n",
       "      <td>0</td>\n",
       "      <td>no</td>\n",
       "      <td>southwest</td>\n",
       "      <td>10602.38500</td>\n",
       "    </tr>\n",
       "    <tr>\n",
       "      <th>...</th>\n",
       "      <td>...</td>\n",
       "      <td>...</td>\n",
       "      <td>...</td>\n",
       "      <td>...</td>\n",
       "      <td>...</td>\n",
       "      <td>...</td>\n",
       "      <td>...</td>\n",
       "    </tr>\n",
       "    <tr>\n",
       "      <th>1327</th>\n",
       "      <td>51</td>\n",
       "      <td>male</td>\n",
       "      <td>30.03</td>\n",
       "      <td>1</td>\n",
       "      <td>no</td>\n",
       "      <td>southeast</td>\n",
       "      <td>9377.90470</td>\n",
       "    </tr>\n",
       "    <tr>\n",
       "      <th>1329</th>\n",
       "      <td>52</td>\n",
       "      <td>male</td>\n",
       "      <td>38.60</td>\n",
       "      <td>2</td>\n",
       "      <td>no</td>\n",
       "      <td>southwest</td>\n",
       "      <td>10325.20600</td>\n",
       "    </tr>\n",
       "    <tr>\n",
       "      <th>1330</th>\n",
       "      <td>57</td>\n",
       "      <td>female</td>\n",
       "      <td>25.74</td>\n",
       "      <td>2</td>\n",
       "      <td>no</td>\n",
       "      <td>southeast</td>\n",
       "      <td>12629.16560</td>\n",
       "    </tr>\n",
       "    <tr>\n",
       "      <th>1332</th>\n",
       "      <td>52</td>\n",
       "      <td>female</td>\n",
       "      <td>44.70</td>\n",
       "      <td>3</td>\n",
       "      <td>no</td>\n",
       "      <td>southwest</td>\n",
       "      <td>11411.68500</td>\n",
       "    </tr>\n",
       "    <tr>\n",
       "      <th>1337</th>\n",
       "      <td>61</td>\n",
       "      <td>female</td>\n",
       "      <td>29.07</td>\n",
       "      <td>0</td>\n",
       "      <td>yes</td>\n",
       "      <td>northwest</td>\n",
       "      <td>29141.36030</td>\n",
       "    </tr>\n",
       "  </tbody>\n",
       "</table>\n",
       "<p>356 rows × 7 columns</p>\n",
       "</div>"
      ],
      "text/plain": [
       "      age     sex    bmi  children smoker     region      charges\n",
       "9      60  female  25.84         0     no  northwest  28923.13692\n",
       "11     62  female  26.29         0    yes  southeast  27808.72510\n",
       "13     56  female  39.82         0     no  southeast  11090.71780\n",
       "16     52  female  30.78         1     no  northeast  10797.33620\n",
       "18     56    male  40.30         0     no  southwest  10602.38500\n",
       "...   ...     ...    ...       ...    ...        ...          ...\n",
       "1327   51    male  30.03         1     no  southeast   9377.90470\n",
       "1329   52    male  38.60         2     no  southwest  10325.20600\n",
       "1330   57  female  25.74         2     no  southeast  12629.16560\n",
       "1332   52  female  44.70         3     no  southwest  11411.68500\n",
       "1337   61  female  29.07         0    yes  northwest  29141.36030\n",
       "\n",
       "[356 rows x 7 columns]"
      ]
     },
     "execution_count": 24,
     "metadata": {},
     "output_type": "execute_result"
    }
   ],
   "source": [
    "old_age = df[df['age'] > 50]\n",
    "old_age"
   ]
  },
  {
   "cell_type": "code",
   "execution_count": 28,
   "id": "3a7a58af",
   "metadata": {},
   "outputs": [
    {
     "data": {
      "text/plain": [
       "<AxesSubplot:title={'center':'Relationship between old age group and the Body Mass Index'}, xlabel='age', ylabel='BMI counts'>"
      ]
     },
     "execution_count": 28,
     "metadata": {},
     "output_type": "execute_result"
    },
    {
     "data": {
      "image/png": "[encoded data removed]",
      "text/plain": [
       "<Figure size 576x432 with 1 Axes>"
      ]
     },
     "metadata": {
      "needs_background": "light"
     },
     "output_type": "display_data"
    }
   ],
   "source": [
    "plt.figure(figsize=(8, 6))\n",
    "\n",
    "old_age.groupby('age').bmi.count().plot.bar(ylabel='BMI counts', title='Relationship between old age group and the Body Mass Index')"
   ]
  },
  {
   "cell_type": "code",
   "execution_count": 29,
   "id": "65f55b55",
   "metadata": {},
   "outputs": [
    {
     "data": {
      "text/plain": [
       "region     children\n",
       "southeast  0           157\n",
       "northeast  0           147\n",
       "southwest  0           138\n",
       "northwest  0           132\n",
       "southeast  1            95\n",
       "southwest  1            78\n",
       "northeast  1            77\n",
       "northwest  1            74\n",
       "           2            66\n",
       "southeast  2            66\n",
       "southwest  2            57\n",
       "northeast  2            51\n",
       "northwest  3            46\n",
       "northeast  3            39\n",
       "southwest  3            37\n",
       "southeast  3            35\n",
       "southwest  5             8\n",
       "northeast  4             7\n",
       "southwest  4             7\n",
       "northwest  4             6\n",
       "southeast  5             6\n",
       "           4             5\n",
       "northeast  5             3\n",
       "northwest  5             1\n",
       "Name: children, dtype: int64"
      ]
     },
     "execution_count": 29,
     "metadata": {},
     "output_type": "execute_result"
    }
   ],
   "source": [
    "most_children = df.groupby('region').children.value_counts().sort_values(ascending=False)\n",
    "most_children"
   ]
  },
  {
   "cell_type": "code",
   "execution_count": 30,
   "id": "a1117cf4",
   "metadata": {},
   "outputs": [
    {
     "data": {
      "image/png": "[encoded data removed]",
      "text/plain": [
       "<Figure size 432x288 with 1 Axes>"
      ]
     },
     "metadata": {
      "needs_background": "light"
     },
     "output_type": "display_data"
    }
   ],
   "source": [
    "plt.figure()\n",
    "plt.scatter(df['age'], df['bmi'])\n",
    "#plt.yscale('log')\n",
    "plt.show()"
   ]
  },
  {
   "cell_type": "code",
   "execution_count": 31,
   "id": "5201b3bf",
   "metadata": {},
   "outputs": [
    {
     "data": {
      "text/plain": [
       "array([19, 18, 28, 33, 32, 31, 46, 37, 60, 25, 62, 23, 56, 27, 52, 30, 34,\n",
       "       59, 63, 55, 22, 26, 35, 24, 41, 38, 36, 21, 48, 40, 58, 53, 43, 64,\n",
       "       20, 61, 44, 57, 29, 45, 54, 49, 47, 51, 42, 50, 39], dtype=int64)"
      ]
     },
     "execution_count": 31,
     "metadata": {},
     "output_type": "execute_result"
    }
   ],
   "source": [
    "#Relationship between age and bmi\n",
    "age_unique = df['age'].unique()\n",
    "age_unique"
   ]
  },
  {
   "cell_type": "code",
   "execution_count": 34,
   "id": "a4156e94",
   "metadata": {},
   "outputs": [
    {
     "data": {
      "image/png": "[encoded data removed]",
      "text/plain": [
       "<Figure size 432x288 with 1 Axes>"
      ]
     },
     "metadata": {
      "needs_background": "light"
     },
     "output_type": "display_data"
    }
   ],
   "source": [
    "#Relationship between bmi and children\n",
    "bmi_count = df.groupby('children').children.count()\n",
    "children_set = df.children.unique()\n",
    "\n",
    "plt.figure()\n",
    "plt.bar(children_set, bmi_count)\n",
    "plt.xlabel('Children')\n",
    "plt.ylabel('The number of BMI')\n",
    "plt.title('Relationship between bmi and children')\n",
    "plt.show()"
   ]
  },
  {
   "cell_type": "code",
   "execution_count": 35,
   "id": "a4e2ec5e",
   "metadata": {},
   "outputs": [
    {
     "data": {
      "image/png": "[encoded data removed]",
      "text/plain": [
       "<Figure size 432x288 with 1 Axes>"
      ]
     },
     "metadata": {
      "needs_background": "light"
     },
     "output_type": "display_data"
    }
   ],
   "source": [
    "plt.figure()\n",
    "\n",
    "plt.boxplot(df['bmi'], vert=False)\n",
    "plt.show()"
   ]
  },
  {
   "cell_type": "code",
   "execution_count": 36,
   "id": "fb4043ad",
   "metadata": {},
   "outputs": [
    {
     "data": {
      "image/png": "[encoded data removed]",
      "text/plain": [
       "<Figure size 432x288 with 1 Axes>"
      ]
     },
     "metadata": {
      "needs_background": "light"
     },
     "output_type": "display_data"
    },
    {
     "name": "stdout",
     "output_type": "stream",
     "text": [
      "0.19834096883362887\n"
     ]
    }
   ],
   "source": [
    "#Relationship between BMI and charges\n",
    "plt.figure()\n",
    "plt.scatter(df['bmi'], df['charges'])\n",
    "#plt.yscale('log')\n",
    "plt.show()\n",
    "\n",
    "\n",
    "print(df['charges'].corr(df['bmi']))"
   ]
  },
  {
   "cell_type": "code",
   "execution_count": 37,
   "id": "db97e69b",
   "metadata": {},
   "outputs": [
    {
     "data": {
      "text/plain": [
       "array(['yes', 'no'], dtype=object)"
      ]
     },
     "execution_count": 37,
     "metadata": {},
     "output_type": "execute_result"
    }
   ],
   "source": [
    "#Relationship between “region”, “smoker” and “bmi”\n",
    "df_smoke = df.smoker.unique()\n",
    "df_smoke"
   ]
  },
  {
   "cell_type": "code",
   "execution_count": 38,
   "id": "478ddc46",
   "metadata": {},
   "outputs": [
    {
     "data": {
      "image/png": "[encoded data removed]",
      "text/plain": [
       "<Figure size 432x288 with 1 Axes>"
      ]
     },
     "metadata": {
      "needs_background": "light"
     },
     "output_type": "display_data"
    }
   ],
   "source": [
    "df.groupby(['region','smoker']).bmi.mean().plot.bar(color='red', alpha=0.8)\n",
    "plt.ylabel('Mean BMI')\n",
    "plt.title('Relationship between region, smoker and bmi')\n",
    "plt.xticks(rotation=45);"
   ]
  },
  {
   "cell_type": "markdown",
   "id": "724b4273",
   "metadata": {},
   "source": [
    "# Data Preprocessing"
   ]
  },
  {
   "cell_type": "code",
   "execution_count": 39,
   "id": "495d1694",
   "metadata": {},
   "outputs": [],
   "source": [
    "from sklearn.preprocessing import LabelEncoder, OneHotEncoder"
   ]
  },
  {
   "cell_type": "code",
   "execution_count": 40,
   "id": "e680108b",
   "metadata": {},
   "outputs": [],
   "source": [
    "df_cat = df[['sex', 'smoker']]\n",
    "df1 = df.drop(['sex', 'smoker'], axis=1)"
   ]
  },
  {
   "cell_type": "code",
   "execution_count": 41,
   "id": "0266424f",
   "metadata": {},
   "outputs": [
    {
     "data": {
      "text/html": [
       "<div>\n",
       "<style scoped>\n",
       "    .dataframe tbody tr th:only-of-type {\n",
       "        vertical-align: middle;\n",
       "    }\n",
       "\n",
       "    .dataframe tbody tr th {\n",
       "        vertical-align: top;\n",
       "    }\n",
       "\n",
       "    .dataframe thead th {\n",
       "        text-align: right;\n",
       "    }\n",
       "</style>\n",
       "<table border=\"1\" class=\"dataframe\">\n",
       "  <thead>\n",
       "    <tr style=\"text-align: right;\">\n",
       "      <th></th>\n",
       "      <th>region</th>\n",
       "    </tr>\n",
       "  </thead>\n",
       "  <tbody>\n",
       "    <tr>\n",
       "      <th>0</th>\n",
       "      <td>3</td>\n",
       "    </tr>\n",
       "    <tr>\n",
       "      <th>1</th>\n",
       "      <td>2</td>\n",
       "    </tr>\n",
       "    <tr>\n",
       "      <th>2</th>\n",
       "      <td>2</td>\n",
       "    </tr>\n",
       "    <tr>\n",
       "      <th>3</th>\n",
       "      <td>1</td>\n",
       "    </tr>\n",
       "    <tr>\n",
       "      <th>4</th>\n",
       "      <td>1</td>\n",
       "    </tr>\n",
       "    <tr>\n",
       "      <th>...</th>\n",
       "      <td>...</td>\n",
       "    </tr>\n",
       "    <tr>\n",
       "      <th>1333</th>\n",
       "      <td>1</td>\n",
       "    </tr>\n",
       "    <tr>\n",
       "      <th>1334</th>\n",
       "      <td>0</td>\n",
       "    </tr>\n",
       "    <tr>\n",
       "      <th>1335</th>\n",
       "      <td>2</td>\n",
       "    </tr>\n",
       "    <tr>\n",
       "      <th>1336</th>\n",
       "      <td>3</td>\n",
       "    </tr>\n",
       "    <tr>\n",
       "      <th>1337</th>\n",
       "      <td>1</td>\n",
       "    </tr>\n",
       "  </tbody>\n",
       "</table>\n",
       "<p>1338 rows × 1 columns</p>\n",
       "</div>"
      ],
      "text/plain": [
       "      region\n",
       "0          3\n",
       "1          2\n",
       "2          2\n",
       "3          1\n",
       "4          1\n",
       "...      ...\n",
       "1333       1\n",
       "1334       0\n",
       "1335       2\n",
       "1336       3\n",
       "1337       1\n",
       "\n",
       "[1338 rows x 1 columns]"
      ]
     },
     "execution_count": 41,
     "metadata": {},
     "output_type": "execute_result"
    }
   ],
   "source": [
    "encoder = LabelEncoder()\n",
    "df1_reg = encoder.fit_transform(df1['region'])\n",
    "df1_reg = np.array(df1_reg)\n",
    "df1_reg.dtype\n",
    "df2 = pd.DataFrame(df1_reg, columns=['region'])\n",
    "df2"
   ]
  },
  {
   "cell_type": "code",
   "execution_count": 42,
   "id": "613ec43c",
   "metadata": {},
   "outputs": [],
   "source": [
    "one_hot = OneHotEncoder()"
   ]
  },
  {
   "cell_type": "code",
   "execution_count": 43,
   "id": "cd92fa5c",
   "metadata": {},
   "outputs": [
    {
     "name": "stdout",
     "output_type": "stream",
     "text": [
      "      sex smoker\n",
      "0  female    yes\n",
      "1    male     no\n",
      "2    male     no\n",
      "3    male     no\n",
      "4    male     no\n"
     ]
    }
   ],
   "source": [
    "print(df_cat.head())"
   ]
  },
  {
   "cell_type": "code",
   "execution_count": 44,
   "id": "f04c918a",
   "metadata": {},
   "outputs": [
    {
     "data": {
      "text/html": [
       "<div>\n",
       "<style scoped>\n",
       "    .dataframe tbody tr th:only-of-type {\n",
       "        vertical-align: middle;\n",
       "    }\n",
       "\n",
       "    .dataframe tbody tr th {\n",
       "        vertical-align: top;\n",
       "    }\n",
       "\n",
       "    .dataframe thead th {\n",
       "        text-align: right;\n",
       "    }\n",
       "</style>\n",
       "<table border=\"1\" class=\"dataframe\">\n",
       "  <thead>\n",
       "    <tr style=\"text-align: right;\">\n",
       "      <th></th>\n",
       "      <th>sex_female</th>\n",
       "      <th>sex_male</th>\n",
       "      <th>smoker_yes</th>\n",
       "      <th>smoker_no</th>\n",
       "    </tr>\n",
       "  </thead>\n",
       "  <tbody>\n",
       "    <tr>\n",
       "      <th>0</th>\n",
       "      <td>1.0</td>\n",
       "      <td>0.0</td>\n",
       "      <td>0.0</td>\n",
       "      <td>1.0</td>\n",
       "    </tr>\n",
       "    <tr>\n",
       "      <th>1</th>\n",
       "      <td>0.0</td>\n",
       "      <td>1.0</td>\n",
       "      <td>1.0</td>\n",
       "      <td>0.0</td>\n",
       "    </tr>\n",
       "    <tr>\n",
       "      <th>2</th>\n",
       "      <td>0.0</td>\n",
       "      <td>1.0</td>\n",
       "      <td>1.0</td>\n",
       "      <td>0.0</td>\n",
       "    </tr>\n",
       "    <tr>\n",
       "      <th>3</th>\n",
       "      <td>0.0</td>\n",
       "      <td>1.0</td>\n",
       "      <td>1.0</td>\n",
       "      <td>0.0</td>\n",
       "    </tr>\n",
       "    <tr>\n",
       "      <th>4</th>\n",
       "      <td>0.0</td>\n",
       "      <td>1.0</td>\n",
       "      <td>1.0</td>\n",
       "      <td>0.0</td>\n",
       "    </tr>\n",
       "    <tr>\n",
       "      <th>...</th>\n",
       "      <td>...</td>\n",
       "      <td>...</td>\n",
       "      <td>...</td>\n",
       "      <td>...</td>\n",
       "    </tr>\n",
       "    <tr>\n",
       "      <th>1333</th>\n",
       "      <td>0.0</td>\n",
       "      <td>1.0</td>\n",
       "      <td>1.0</td>\n",
       "      <td>0.0</td>\n",
       "    </tr>\n",
       "    <tr>\n",
       "      <th>1334</th>\n",
       "      <td>1.0</td>\n",
       "      <td>0.0</td>\n",
       "      <td>1.0</td>\n",
       "      <td>0.0</td>\n",
       "    </tr>\n",
       "    <tr>\n",
       "      <th>1335</th>\n",
       "      <td>1.0</td>\n",
       "      <td>0.0</td>\n",
       "      <td>1.0</td>\n",
       "      <td>0.0</td>\n",
       "    </tr>\n",
       "    <tr>\n",
       "      <th>1336</th>\n",
       "      <td>1.0</td>\n",
       "      <td>0.0</td>\n",
       "      <td>1.0</td>\n",
       "      <td>0.0</td>\n",
       "    </tr>\n",
       "    <tr>\n",
       "      <th>1337</th>\n",
       "      <td>1.0</td>\n",
       "      <td>0.0</td>\n",
       "      <td>0.0</td>\n",
       "      <td>1.0</td>\n",
       "    </tr>\n",
       "  </tbody>\n",
       "</table>\n",
       "<p>1338 rows × 4 columns</p>\n",
       "</div>"
      ],
      "text/plain": [
       "      sex_female  sex_male  smoker_yes  smoker_no\n",
       "0            1.0       0.0         0.0        1.0\n",
       "1            0.0       1.0         1.0        0.0\n",
       "2            0.0       1.0         1.0        0.0\n",
       "3            0.0       1.0         1.0        0.0\n",
       "4            0.0       1.0         1.0        0.0\n",
       "...          ...       ...         ...        ...\n",
       "1333         0.0       1.0         1.0        0.0\n",
       "1334         1.0       0.0         1.0        0.0\n",
       "1335         1.0       0.0         1.0        0.0\n",
       "1336         1.0       0.0         1.0        0.0\n",
       "1337         1.0       0.0         0.0        1.0\n",
       "\n",
       "[1338 rows x 4 columns]"
      ]
     },
     "execution_count": 44,
     "metadata": {},
     "output_type": "execute_result"
    }
   ],
   "source": [
    "df_cat_hot = one_hot.fit_transform(df_cat)\n",
    "df1_cat = df_cat_hot.toarray()\n",
    "df3 = pd.DataFrame(df1_cat, columns=['sex_female', 'sex_male', 'smoker_yes', 'smoker_no'])\n",
    "df3"
   ]
  },
  {
   "cell_type": "code",
   "execution_count": 45,
   "id": "3f3f76eb",
   "metadata": {},
   "outputs": [
    {
     "data": {
      "text/html": [
       "<div>\n",
       "<style scoped>\n",
       "    .dataframe tbody tr th:only-of-type {\n",
       "        vertical-align: middle;\n",
       "    }\n",
       "\n",
       "    .dataframe tbody tr th {\n",
       "        vertical-align: top;\n",
       "    }\n",
       "\n",
       "    .dataframe thead th {\n",
       "        text-align: right;\n",
       "    }\n",
       "</style>\n",
       "<table border=\"1\" class=\"dataframe\">\n",
       "  <thead>\n",
       "    <tr style=\"text-align: right;\">\n",
       "      <th></th>\n",
       "      <th>age</th>\n",
       "      <th>bmi</th>\n",
       "      <th>children</th>\n",
       "      <th>charges</th>\n",
       "    </tr>\n",
       "  </thead>\n",
       "  <tbody>\n",
       "    <tr>\n",
       "      <th>0</th>\n",
       "      <td>19</td>\n",
       "      <td>27.900</td>\n",
       "      <td>0</td>\n",
       "      <td>16884.92400</td>\n",
       "    </tr>\n",
       "    <tr>\n",
       "      <th>1</th>\n",
       "      <td>18</td>\n",
       "      <td>33.770</td>\n",
       "      <td>1</td>\n",
       "      <td>1725.55230</td>\n",
       "    </tr>\n",
       "    <tr>\n",
       "      <th>2</th>\n",
       "      <td>28</td>\n",
       "      <td>33.000</td>\n",
       "      <td>3</td>\n",
       "      <td>4449.46200</td>\n",
       "    </tr>\n",
       "    <tr>\n",
       "      <th>3</th>\n",
       "      <td>33</td>\n",
       "      <td>22.705</td>\n",
       "      <td>0</td>\n",
       "      <td>21984.47061</td>\n",
       "    </tr>\n",
       "    <tr>\n",
       "      <th>4</th>\n",
       "      <td>32</td>\n",
       "      <td>28.880</td>\n",
       "      <td>0</td>\n",
       "      <td>3866.85520</td>\n",
       "    </tr>\n",
       "  </tbody>\n",
       "</table>\n",
       "</div>"
      ],
      "text/plain": [
       "   age     bmi  children      charges\n",
       "0   19  27.900         0  16884.92400\n",
       "1   18  33.770         1   1725.55230\n",
       "2   28  33.000         3   4449.46200\n",
       "3   33  22.705         0  21984.47061\n",
       "4   32  28.880         0   3866.85520"
      ]
     },
     "execution_count": 45,
     "metadata": {},
     "output_type": "execute_result"
    }
   ],
   "source": [
    "df1 = df1.drop('region', axis=1)\n",
    "df1.head()"
   ]
  },
  {
   "cell_type": "code",
   "execution_count": 46,
   "id": "11e1a648",
   "metadata": {},
   "outputs": [
    {
     "data": {
      "text/html": [
       "<div>\n",
       "<style scoped>\n",
       "    .dataframe tbody tr th:only-of-type {\n",
       "        vertical-align: middle;\n",
       "    }\n",
       "\n",
       "    .dataframe tbody tr th {\n",
       "        vertical-align: top;\n",
       "    }\n",
       "\n",
       "    .dataframe thead th {\n",
       "        text-align: right;\n",
       "    }\n",
       "</style>\n",
       "<table border=\"1\" class=\"dataframe\">\n",
       "  <thead>\n",
       "    <tr style=\"text-align: right;\">\n",
       "      <th></th>\n",
       "      <th>age</th>\n",
       "      <th>bmi</th>\n",
       "      <th>children</th>\n",
       "      <th>charges</th>\n",
       "      <th>region</th>\n",
       "      <th>sex_female</th>\n",
       "      <th>sex_male</th>\n",
       "      <th>smoker_yes</th>\n",
       "      <th>smoker_no</th>\n",
       "    </tr>\n",
       "  </thead>\n",
       "  <tbody>\n",
       "    <tr>\n",
       "      <th>0</th>\n",
       "      <td>19</td>\n",
       "      <td>27.900</td>\n",
       "      <td>0</td>\n",
       "      <td>16884.92400</td>\n",
       "      <td>3</td>\n",
       "      <td>1.0</td>\n",
       "      <td>0.0</td>\n",
       "      <td>0.0</td>\n",
       "      <td>1.0</td>\n",
       "    </tr>\n",
       "    <tr>\n",
       "      <th>1</th>\n",
       "      <td>18</td>\n",
       "      <td>33.770</td>\n",
       "      <td>1</td>\n",
       "      <td>1725.55230</td>\n",
       "      <td>2</td>\n",
       "      <td>0.0</td>\n",
       "      <td>1.0</td>\n",
       "      <td>1.0</td>\n",
       "      <td>0.0</td>\n",
       "    </tr>\n",
       "    <tr>\n",
       "      <th>2</th>\n",
       "      <td>28</td>\n",
       "      <td>33.000</td>\n",
       "      <td>3</td>\n",
       "      <td>4449.46200</td>\n",
       "      <td>2</td>\n",
       "      <td>0.0</td>\n",
       "      <td>1.0</td>\n",
       "      <td>1.0</td>\n",
       "      <td>0.0</td>\n",
       "    </tr>\n",
       "    <tr>\n",
       "      <th>3</th>\n",
       "      <td>33</td>\n",
       "      <td>22.705</td>\n",
       "      <td>0</td>\n",
       "      <td>21984.47061</td>\n",
       "      <td>1</td>\n",
       "      <td>0.0</td>\n",
       "      <td>1.0</td>\n",
       "      <td>1.0</td>\n",
       "      <td>0.0</td>\n",
       "    </tr>\n",
       "    <tr>\n",
       "      <th>4</th>\n",
       "      <td>32</td>\n",
       "      <td>28.880</td>\n",
       "      <td>0</td>\n",
       "      <td>3866.85520</td>\n",
       "      <td>1</td>\n",
       "      <td>0.0</td>\n",
       "      <td>1.0</td>\n",
       "      <td>1.0</td>\n",
       "      <td>0.0</td>\n",
       "    </tr>\n",
       "  </tbody>\n",
       "</table>\n",
       "</div>"
      ],
      "text/plain": [
       "   age     bmi  children      charges  region  sex_female  sex_male  \\\n",
       "0   19  27.900         0  16884.92400       3         1.0       0.0   \n",
       "1   18  33.770         1   1725.55230       2         0.0       1.0   \n",
       "2   28  33.000         3   4449.46200       2         0.0       1.0   \n",
       "3   33  22.705         0  21984.47061       1         0.0       1.0   \n",
       "4   32  28.880         0   3866.85520       1         0.0       1.0   \n",
       "\n",
       "   smoker_yes  smoker_no  \n",
       "0         0.0        1.0  \n",
       "1         1.0        0.0  \n",
       "2         1.0        0.0  \n",
       "3         1.0        0.0  \n",
       "4         1.0        0.0  "
      ]
     },
     "execution_count": 46,
     "metadata": {},
     "output_type": "execute_result"
    }
   ],
   "source": [
    "df = df1.join([df2, df3])\n",
    "df.head()"
   ]
  },
  {
   "cell_type": "code",
   "execution_count": 47,
   "id": "b963b29f",
   "metadata": {},
   "outputs": [],
   "source": [
    "X = df.drop('charges', axis=1)\n",
    "y = df['charges']"
   ]
  },
  {
   "cell_type": "code",
   "execution_count": 48,
   "id": "54a4aaa5",
   "metadata": {},
   "outputs": [
    {
     "name": "stdout",
     "output_type": "stream",
     "text": [
      "(1338, 8) (1338,)\n"
     ]
    }
   ],
   "source": [
    "print(X.shape, y.shape)"
   ]
  },
  {
   "cell_type": "markdown",
   "id": "230201ae",
   "metadata": {},
   "source": [
    "# Splitting the data"
   ]
  },
  {
   "cell_type": "code",
   "execution_count": 49,
   "id": "9851da4a",
   "metadata": {},
   "outputs": [
    {
     "name": "stdout",
     "output_type": "stream",
     "text": [
      "     age     bmi  children  region  sex_female  sex_male  smoker_yes  \\\n",
      "332   61  31.160         0       1         1.0       0.0         1.0   \n",
      "355   46  27.600         0       3         0.0       1.0         1.0   \n",
      "138   54  31.900         3       2         1.0       0.0         1.0   \n",
      "381   55  30.685         0       0         0.0       1.0         0.0   \n",
      "292   25  45.540         2       2         0.0       1.0         0.0   \n",
      "\n",
      "     smoker_no  \n",
      "332        0.0  \n",
      "355        0.0  \n",
      "138        0.0  \n",
      "381        1.0  \n",
      "292        1.0  \n"
     ]
    }
   ],
   "source": [
    "from sklearn.model_selection import train_test_split\n",
    "\n",
    "X_train, X_test, y_train, y_test = train_test_split(X, y, test_size=0.3, random_state=42)\n",
    "print(X_train.head())"
   ]
  },
  {
   "cell_type": "markdown",
   "id": "740337e4",
   "metadata": {},
   "source": [
    "# Sclaing the dataset"
   ]
  },
  {
   "cell_type": "code",
   "execution_count": 50,
   "id": "d7660021",
   "metadata": {},
   "outputs": [],
   "source": [
    "from sklearn.preprocessing import StandardScaler"
   ]
  },
  {
   "cell_type": "code",
   "execution_count": 51,
   "id": "a37a66b6",
   "metadata": {},
   "outputs": [
    {
     "name": "stdout",
     "output_type": "stream",
     "text": [
      "[[ 1.54446486  0.10318223 -0.91501097 ... -1.02597835  0.51298918\n",
      "  -0.51298918]\n",
      " [ 0.48187425 -0.4908445  -0.91501097 ...  0.97467943  0.51298918\n",
      "  -0.51298918]\n",
      " [ 1.04858924  0.2266597   1.56027883 ... -1.02597835  0.51298918\n",
      "  -0.51298918]\n",
      " ...\n",
      " [ 1.33194673 -0.8954835  -0.91501097 ...  0.97467943  0.51298918\n",
      "  -0.51298918]\n",
      " [-0.15568012  2.84638435  0.73518223 ... -1.02597835 -1.94935887\n",
      "   1.94935887]\n",
      " [ 1.11942861 -0.10706319 -0.91501097 ...  0.97467943  0.51298918\n",
      "  -0.51298918]]\n"
     ]
    }
   ],
   "source": [
    "scaler = StandardScaler()\n",
    "X_train_scaled = scaler.fit_transform(X_train)\n",
    "X_test_scaled = scaler.transform(X_test)\n",
    "print(X_train_scaled)"
   ]
  },
  {
   "cell_type": "code",
   "execution_count": 52,
   "id": "87017449",
   "metadata": {},
   "outputs": [],
   "source": [
    "from sklearn.linear_model import LinearRegression\n",
    "from sklearn.tree import DecisionTreeRegressor\n",
    "from sklearn.linear_model import Ridge, Lasso\n",
    "from sklearn.ensemble import AdaBoostRegressor, BaggingRegressor, GradientBoostingRegressor\n",
    "from sklearn.model_selection import cross_val_score, KFold\n",
    "\n",
    "from sklearn.metrics import mean_squared_error as MSE\n",
    "from sklearn.metrics import r2_score\n",
    "\n"
   ]
  },
  {
   "cell_type": "code",
   "execution_count": 53,
   "id": "bd61d940",
   "metadata": {},
   "outputs": [
    {
     "name": "stdout",
     "output_type": "stream",
     "text": [
      "Linear Regression 6189.301583605564\n",
      "Decision_tree 6869.129628773377\n",
      "Ridge Regression 6189.281084738125\n",
      "Lasso Regression 6189.300541532117\n"
     ]
    }
   ],
   "source": [
    "linreg = LinearRegression()\n",
    "dt = DecisionTreeRegressor(max_depth=5, min_samples_leaf=0.14, random_state=12)\n",
    "ridge = Ridge(alpha=0.1)\n",
    "lasso = Lasso(alpha=0.01)\n",
    "models = [('Linear Regression', linreg),\n",
    "          ('Decision_tree', dt),\n",
    "          ('Ridge Regression', ridge),\n",
    "          ('Lasso Regression', lasso)]\n",
    "\n",
    "for model_name, model  in models:\n",
    "    mse_cv_scores = cross_val_score(model, X_train, y_train, cv=10, scoring='neg_mean_squared_error', n_jobs=-1)\n",
    "   # print(mse_cv_scores)\n",
    "    #best_model = mse_cv_scores.best_estimator_\n",
    "    rmse_cv_scores = (-mse_cv_scores.mean())**(1/2)\n",
    "    print(model_name, rmse_cv_scores)\n",
    "    #y_pred = model.predict(X_test)\n",
    "    #accuracy = r2_score(y_test, y_pred)\n",
    "    #accuracy = np.sqrt(MSE(y_test, y_pred))\n",
    "    #print('{:s}: {:.3f}'.format(model_name, accuracy))"
   ]
  },
  {
   "cell_type": "code",
   "execution_count": 54,
   "id": "5fbb24bc",
   "metadata": {},
   "outputs": [],
   "source": [
    "#print(model.score(X_test, y_test))"
   ]
  },
  {
   "cell_type": "markdown",
   "id": "6d7564e0",
   "metadata": {},
   "source": [
    "# Hyperparameter tuning"
   ]
  },
  {
   "cell_type": "code",
   "execution_count": 59,
   "id": "9d36d5df",
   "metadata": {},
   "outputs": [],
   "source": [
    "from sklearn.model_selection import GridSearchCV"
   ]
  },
  {
   "cell_type": "code",
   "execution_count": 60,
   "id": "72d7e19c",
   "metadata": {},
   "outputs": [],
   "source": [
    "params_dt ={dt : {'max_depth' : [3, 4, 5, 6], 'min_samples_leaf' : [0.04, 0.06, 0.08], 'max_features' : [0.2, 0.4, 0.6, 0.8]},\n",
    "            ridge : {'alpha': [0.1, 1.0, 10.0, 100.0]},\n",
    "            lasso : {'alpha': [0.001, 0.01, 0.1, 1.0]},\n",
    "            }"
   ]
  },
  {
   "cell_type": "code",
   "execution_count": 62,
   "id": "d2e09094",
   "metadata": {},
   "outputs": [
    {
     "name": "stderr",
     "output_type": "stream",
     "text": [
      "C:\\Users\\user\\Anaconda3\\lib\\site-packages\\sklearn\\model_selection\\_search.py:953: UserWarning: One or more of the test scores are non-finite: [nan nan nan nan nan nan nan nan nan nan nan nan nan nan nan nan nan nan\n",
      " nan nan nan nan nan nan nan nan nan nan nan nan nan nan nan nan nan nan\n",
      " nan nan nan nan nan nan nan nan nan nan nan nan]\n",
      "  warnings.warn(\n",
      "C:\\Users\\user\\Anaconda3\\lib\\site-packages\\sklearn\\model_selection\\_search.py:953: UserWarning: One or more of the test scores are non-finite: [nan nan nan nan]\n",
      "  warnings.warn(\n",
      "C:\\Users\\user\\Anaconda3\\lib\\site-packages\\sklearn\\model_selection\\_search.py:953: UserWarning: One or more of the test scores are non-finite: [nan nan nan nan]\n",
      "  warnings.warn(\n"
     ]
    }
   ],
   "source": [
    "for model, params in params_dt.items():\n",
    "    grid_dt = GridSearchCV(estimator= model, param_grid= params, scoring='accuracy', cv=10, n_jobs=-1)\n",
    "    grid_dt.fit(X_train, y_train)"
   ]
  },
  {
   "cell_type": "code",
   "execution_count": null,
   "id": "fa0dce50",
   "metadata": {},
   "outputs": [],
   "source": []
  },
  {
   "cell_type": "code",
   "execution_count": null,
   "id": "4a384b65",
   "metadata": {},
   "outputs": [],
   "source": []
  }
 ],
 "metadata": {
  "kernelspec": {
   "display_name": "Python 3 (ipykernel)",
   "language": "python",
   "name": "python3"
  },
  "language_info": {
   "codemirror_mode": {
    "name": "ipython",
    "version": 3
   },
   "file_extension": ".py",
   "mimetype": "text/x-python",
   "name": "python",
   "nbconvert_exporter": "python",
   "pygments_lexer": "ipython3",
   "version": "3.9.12"
  }
 },
 "nbformat": 4,
 "nbformat_minor": 5
}
